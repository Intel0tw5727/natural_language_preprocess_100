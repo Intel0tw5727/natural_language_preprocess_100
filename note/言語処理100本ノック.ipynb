{
 "cells": [
  {
   "cell_type": "markdown",
   "metadata": {},
   "source": [
    "# 1章:準備運動"
   ]
  },
  {
   "cell_type": "markdown",
   "metadata": {},
   "source": [
    "## 00. 文字列の逆順  \n",
    "文字列\"stressed\"の文字を逆に（末尾から先頭に向かって）並べた文字列を得よ．"
   ]
  },
  {
   "cell_type": "code",
   "execution_count": 4,
   "metadata": {},
   "outputs": [
    {
     "data": {
      "text/plain": [
       "'desserts'"
      ]
     },
     "execution_count": 4,
     "metadata": {},
     "output_type": "execute_result"
    }
   ],
   "source": [
    "s = \"stressed\"\n",
    "s_rev = [i for i in reversed(list(s))]\n",
    "\"\".join(s_rev)"
   ]
  },
  {
   "cell_type": "markdown",
   "metadata": {},
   "source": [
    "## 01. 「パタトクカシーー」  \n",
    "「パタトクカシーー」という文字列の1,3,5,7文字目を取り出して連結した文字列を得よ．"
   ]
  },
  {
   "cell_type": "code",
   "execution_count": 1,
   "metadata": {},
   "outputs": [
    {
     "name": "stdout",
     "output_type": "stream",
     "text": [
      "パトカー\n"
     ]
    }
   ],
   "source": [
    "s = \"パタトクカシーー\"\n",
    "print(s[0:7:2])"
   ]
  },
  {
   "cell_type": "markdown",
   "metadata": {},
   "source": [
    "## 02. 「パトカー」＋「タクシー」＝「パタトクカシーー」  \n",
    "「パトカー」＋「タクシー」の文字を先頭から交互に連結して文字列「パタトクカシーー」を得よ．"
   ]
  },
  {
   "cell_type": "code",
   "execution_count": 14,
   "metadata": {},
   "outputs": [
    {
     "name": "stdout",
     "output_type": "stream",
     "text": [
      "パタトクカシーー"
     ]
    }
   ],
   "source": [
    "s1 = \"パトカー\"\n",
    "s2 = \"タクシー\"\n",
    "for i in range(len(max(s1, s2))):\n",
    "    try:\n",
    "        print(s1[i] + s2[i], end=\"\")\n",
    "    except:\n",
    "        print(max(s1,s2)[i], end=\"\")"
   ]
  },
  {
   "cell_type": "markdown",
   "metadata": {},
   "source": [
    "## 03. 円周率  \n",
    "\"Now I need a drink, alcoholic of course, after the heavy lectures involving quantum mechanics.\"という文を単語に分解し，各単語の（アルファベットの）文字数を先頭から出現順に並べたリストを作成せよ．"
   ]
  },
  {
   "cell_type": "code",
   "execution_count": 20,
   "metadata": {},
   "outputs": [
    {
     "data": {
      "text/plain": [
       "[3, 1, 4, 1, 5, 9, 2, 6, 5, 3, 5, 8, 9, 7, 9]"
      ]
     },
     "execution_count": 20,
     "metadata": {},
     "output_type": "execute_result"
    }
   ],
   "source": [
    "word = \"Now I need a drink, alcoholic of course, after the heavy lectures involving quantum mechanics.\"\n",
    "[len(i) for i in word.replace(\",\", \"\").replace(\".\", \"\").split(\" \")]"
   ]
  },
  {
   "cell_type": "markdown",
   "metadata": {},
   "source": [
    "## 04. 元素記号  \n",
    "\"Hi He Lied Because Boron Could Not Oxidize Fluorine. New Nations Might Also Sign Peace Security Clause. Arthur King Can.\"という文を単語に分解し，1, 5, 6, 7, 8, 9, 15, 16, 19番目の単語は先頭の1文字，それ以外の単語は先頭に2文字を取り出し，取り出した文字列から単語の位置（先頭から何番目の単語か）への連想配列（辞書型もしくはマップ型）を作成せよ．"
   ]
  },
  {
   "cell_type": "code",
   "execution_count": 35,
   "metadata": {},
   "outputs": [
    {
     "data": {
      "text/plain": [
       "{1: 'H',\n",
       " 2: 'He',\n",
       " 3: 'Li',\n",
       " 4: 'Be',\n",
       " 5: 'B',\n",
       " 6: 'C',\n",
       " 7: 'N',\n",
       " 8: 'O',\n",
       " 9: 'F',\n",
       " 10: 'Ne',\n",
       " 11: 'Na',\n",
       " 12: 'Mi',\n",
       " 13: 'Al',\n",
       " 14: 'Si',\n",
       " 15: 'P',\n",
       " 16: 'S',\n",
       " 17: 'Cl',\n",
       " 18: 'Ar',\n",
       " 19: 'K',\n",
       " 20: 'Ca'}"
      ]
     },
     "execution_count": 35,
     "metadata": {},
     "output_type": "execute_result"
    }
   ],
   "source": [
    "atom = \"Hi He Lied Because Boron Could Not Oxidize Fluorine. New Nations Might Also Sign Peace Security Clause. Arthur King Can.\"\n",
    "atom_values = [i[0] if num+1 in [1,5,6,7,8,9,15,16,19] else i[:2] for num,i in enumerate(atom.replace(\".\", \"\").split(\" \"))]\n",
    "atom_keys = [j+1 for j in range(len(atom_values))]\n",
    "dict(zip(atom_keys, atom_values))"
   ]
  },
  {
   "cell_type": "markdown",
   "metadata": {},
   "source": [
    "## 05. n-gram  \n",
    "与えられたシーケンス（文字列やリストなど）からn-gramを作る関数を作成せよ．この関数を用い，\"I am an NLPer\"という文から単語bi-gram，文字bi-gramを得よ．"
   ]
  },
  {
   "cell_type": "code",
   "execution_count": 45,
   "metadata": {},
   "outputs": [
    {
     "name": "stdout",
     "output_type": "stream",
     "text": [
      "word bi-gram\n",
      "[['I', 'am'], ['am', 'an'], ['an', 'NLPer']]\n",
      "character bi-gram\n",
      "['I ', ' a', 'am', 'm ', ' a', 'an', 'n ', ' N', 'NL', 'LP', 'Pe', 'er']\n"
     ]
    }
   ],
   "source": [
    "word = \"I am an NLPer\"\n",
    "# word bi-gram\n",
    "print(\"word bi-gram\")\n",
    "print([word.split(\" \")[i:i+2] for i in range(len(word.split(\" \"))-1)])\n",
    "\n",
    "# character bi-gram\n",
    "print(\"character bi-gram\")\n",
    "print([word[i:i+2] for i in range(len(word)-1)])"
   ]
  },
  {
   "cell_type": "markdown",
   "metadata": {},
   "source": [
    "## 06. 集合  \n",
    "\"paraparaparadise\"と\"paragraph\"に含まれる文字bi-gramの集合を，それぞれ, XとYとして求め，XとYの和集合，積集合，差集合を求めよ．さらに，'se'というbi-gramがXおよびYに含まれるかどうかを調べよ．"
   ]
  },
  {
   "cell_type": "code",
   "execution_count": 49,
   "metadata": {},
   "outputs": [
    {
     "name": "stdout",
     "output_type": "stream",
     "text": [
      "和集合: {'ph', 'is', 'pa', 'di', 'ag', 'ra', 'ap', 'ad', 'gr', 'ar', 'se'}\n",
      "積集合: {'ra', 'pa', 'ap', 'ar'}\n",
      "差集合: {'ad', 'di', 'is', 'se'}\n",
      "True\n",
      "False\n"
     ]
    }
   ],
   "source": [
    "word1 = \"paraparaparadise\"\n",
    "word2 = \"paragraph\"\n",
    "X = set([word1[i:i+2] for i in range(len(word1) - 1)])\n",
    "Y = set([word2[i:i+2] for i in range(len(word2) - 1)])\n",
    "\n",
    "print(\"和集合: {}\" .format(X | Y))\n",
    "print(\"積集合: {}\" .format(X & Y))\n",
    "print(\"差集合: {}\" .format(X - Y))\n",
    "\n",
    "print(\"se\" in X)\n",
    "print(\"se\" in Y)"
   ]
  },
  {
   "cell_type": "markdown",
   "metadata": {
    "collapsed": true
   },
   "source": [
    "## 07. テンプレートによる文生成\n",
    "引数x, y, zを受け取り「x時のyはz」という文字列を返す関数を実装せよ．さらに，x=12, y=\"気温\", z=22.4として，実行結果を確認せよ．"
   ]
  },
  {
   "cell_type": "code",
   "execution_count": 2,
   "metadata": {},
   "outputs": [
    {
     "data": {
      "text/plain": [
       "'12時の気温は22.4'"
      ]
     },
     "execution_count": 2,
     "metadata": {},
     "output_type": "execute_result"
    }
   ],
   "source": [
    "def template(x,y,z):\n",
    "    return str(x) + \"時の\" + str(y) + \"は\" + str(z)\n",
    "\n",
    "template(12, \"気温\", 22.4)"
   ]
  },
  {
   "cell_type": "markdown",
   "metadata": {},
   "source": [
    "## 08. 暗号文\n",
    "与えられた文字列の各文字を，以下の仕様で変換する関数cipherを実装せよ．\n",
    "\n",
    "+ 英小文字ならば(219 - 文字コード)の文字に置換\n",
    "+ その他の文字はそのまま出力\n",
    "\n",
    "この関数を用い，英語のメッセージを暗号化・復号せよ"
   ]
  },
  {
   "cell_type": "code",
   "execution_count": 26,
   "metadata": {},
   "outputs": [
    {
     "data": {
      "text/plain": [
       "'unkoUNKO'"
      ]
     },
     "execution_count": 26,
     "metadata": {},
     "output_type": "execute_result"
    }
   ],
   "source": [
    "import re\n",
    "\n",
    "def cipher(word):\n",
    "    lowerReg = re.compile(r'^[a-z]+$')\n",
    "    ascii_word = [ord(i) if lowerReg.match(i) is not None else i for i in word ]\n",
    "    crp_word = [chr(219 - j) if str(j).isdigit() == True else j for j in ascii_word ]\n",
    "    return \"\".join(crp_word)\n",
    "        \n",
    "cipher(\"fmplUNKO\")"
   ]
  }
 ],
 "metadata": {
  "kernelspec": {
   "display_name": "Python 3",
   "language": "python",
   "name": "python3"
  },
  "language_info": {
   "codemirror_mode": {
    "name": "ipython",
    "version": 3
   },
   "file_extension": ".py",
   "mimetype": "text/x-python",
   "name": "python",
   "nbconvert_exporter": "python",
   "pygments_lexer": "ipython3",
   "version": "3.6.2"
  }
 },
 "nbformat": 4,
 "nbformat_minor": 2
}
